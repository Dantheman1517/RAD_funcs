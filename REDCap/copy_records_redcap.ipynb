{
 "cells": [
  {
   "cell_type": "markdown",
   "metadata": {},
   "source": [
    "# Problem Statement\n",
    "\n",
    "When testing complex REDCap scripts or functionalities, it is **essential** that one tests them in the Test project first before running/using them on the target project.\n",
    "\n",
    "# Solution\n",
    "\n",
    "This notebook exports data from the target project, then import them into the test project. The test project then will have the exact same records as the target project, effectively making them the same.\n",
    "\n",
    "### **This notebook will wipe out all existing data from the Test project before the import. The existing data will still be recoverable through a JSON file, which can later be reimported back.** \n",
    "\n",
    "# Instructions\n",
    "Currently, the API does not allow for importing instruments. Importing instruments has to be done manually.\n",
    "\n",
    "1. Download all instrument zips from target project.\n",
    "2. Download current test project's instrument zips if not relevant to target project.\n",
    "3. Delete current instruments from test project.\n",
    "4. Import the target project's instrument zips into test project.\n",
    "5. Configure repeating instruments if needed.\n",
    "6. Run this notebook.\n",
    "\n"
   ]
  },
  {
   "cell_type": "markdown",
   "metadata": {},
   "source": [
    "# Code \n",
    "### 1. Setup target and test project"
   ]
  },
  {
   "cell_type": "code",
   "execution_count": null,
   "metadata": {},
   "outputs": [],
   "source": [
    "import AMBRA_Backups\n",
    "import json\n",
    "import pandas as pd\n",
    "from datetime import datetime"
   ]
  },
  {
   "cell_type": "code",
   "execution_count": null,
   "metadata": {},
   "outputs": [],
   "source": [
    "# TARGET PROJECT\n",
    "target_project_name = 'I3C DECADE - Image Tracking'\n",
    "target_project = AMBRA_Backups.redcap_funcs.get_redcap_project(target_project_name)\n",
    "\n",
    "# TEST PROJECT\n",
    "test_project_name = 'Personal Test'\n",
    "test_project = AMBRA_Backups.redcap_funcs.get_redcap_project(test_project_name)"
   ]
  },
  {
   "cell_type": "markdown",
   "metadata": {},
   "source": [
    "Wipe out all existing data from `test_project`."
   ]
  },
  {
   "cell_type": "code",
   "execution_count": null,
   "metadata": {},
   "outputs": [],
   "source": [
    "record_column = 'record_id'\n",
    "all_records = test_project.export_records(format_type='df', export_blank_for_gray_form_status=True)\n",
    "all_records.reset_index(inplace=True)\n",
    "\n",
    "# Get record IDs from Test\n",
    "all_records_ids = []\n",
    "if record_column in all_records:\n",
    "   all_records_ids = all_records['record_id'].unique()\n",
    "\n",
    "# Before deleting records, export all current records into a json file\n",
    "all_records_json = test_project.export_records(export_blank_for_gray_form_status=True)\n",
    "json_obj = json.dumps(all_records_json)\n",
    "\n",
    "with open(f'{test_project_name}_{datetime.now()}.json', 'w') as f:\n",
    "   f.write(json_obj)\n"
   ]
  },
  {
   "cell_type": "code",
   "execution_count": null,
   "metadata": {},
   "outputs": [],
   "source": [
    "# Delete all records\n",
    "if len(all_records_ids) > 0:\n",
    "   test_project.delete_records(records=all_records_ids)\n",
    "\n",
    "test_current_records = test_project.export_records(format_type='df', export_blank_for_gray_form_status=True)\n",
    "\n",
    "if len(test_current_records) == 0:\n",
    "   print(f'All records from {test_project_name} REDCap have been deleted')\n",
    "else:\n",
    "   raise ValueError(f'''Some records remain in {test_project_name} REDCap. current records:\n",
    "         ---------\n",
    "         {test_current_records}\n",
    "         ''')"
   ]
  },
  {
   "cell_type": "markdown",
   "metadata": {},
   "source": [
    "### 2. Copy records"
   ]
  },
  {
   "cell_type": "code",
   "execution_count": null,
   "metadata": {},
   "outputs": [],
   "source": [
    "'''\n",
    "Get current fields from test_project to use as fields filter for\n",
    "target_project's export records. \n",
    "\n",
    "This is needed, as when fields get deleted from a project, they \n",
    "will still show in the export_records() if there are values\n",
    "in them. \n",
    "\n",
    "Since test_project does not have data yet, it would have only the\n",
    "relevant fields and not the deleted fields.\n",
    "'''\n",
    "test_fields_dict = test_project.export_field_names()\n",
    "test_fields = set()\n",
    "\n",
    "for field in test_fields_dict:\n",
    "   test_fields.add(field['original_field_name'])\n",
    "\n",
    "target_records = target_project.export_records(\n",
    "   fields=test_fields, \n",
    "   export_blank_for_gray_form_status=True\n",
    ")\n",
    "target_records"
   ]
  },
  {
   "cell_type": "markdown",
   "metadata": {},
   "source": [
    "Define fields that need to be taken off. \n",
    "\n",
    "This is necessary in cases where options were defined but got deleted from a variable. They would still retain in `export_records` if there's data in them. This is a manual process. \n",
    "\n",
    "Instructions:\n",
    "\n",
    "1. Set `delete_fields = []`. Run cell.\n",
    "2. If an error is thrown, copy the fields mention in the error into \n",
    "`delete_fields`.\n",
    "3. Run cell again."
   ]
  },
  {
   "cell_type": "code",
   "execution_count": null,
   "metadata": {},
   "outputs": [],
   "source": [
    "delete_fields = [\n",
    "   'sequences_acquired___ni',\n",
    "   'sequences_collected___ni'\n",
    "]\n",
    "\n",
    "for record in target_records:\n",
    "   for field in delete_fields:\n",
    "      record.pop(field, None)"
   ]
  },
  {
   "cell_type": "markdown",
   "metadata": {},
   "source": [
    "Import data into test_project"
   ]
  },
  {
   "cell_type": "code",
   "execution_count": null,
   "metadata": {},
   "outputs": [],
   "source": [
    "test_project.import_records(target_records)"
   ]
  },
  {
   "cell_type": "code",
   "execution_count": null,
   "metadata": {},
   "outputs": [],
   "source": [
    "# See if records imported\n",
    "test_records_df = test_project.export_records(format_type='df', export_blank_for_gray_form_status=True)\n",
    "target_records_df = target_project.export_records(format_type='df', export_blank_for_gray_form_status=True, fields=test_fields)\n",
    "\n",
    "merged_df = pd.merge(test_records_df, target_records_df, how='outer', indicator=True)\n",
    "if (len(merged_df) == len(test_records_df)) & (len(merged_df) == len(target_records_df)):\n",
    "    print(f'''{test_project_name} imported data from {target_project_name} successfully''')\n",
    "else:\n",
    "    merged_df.to_excel(f'{test_project_name}_{target_project_name}_merged_{datetime.now()}.xlsx', header=True)\n",
    "    raise ValueError(f'''Data discrepancies between {test_project_name} and {target_project_name}''')"
   ]
  }
 ],
 "metadata": {
  "kernelspec": {
   "display_name": "redcap-ambra",
   "language": "python",
   "name": "python3"
  },
  "language_info": {
   "codemirror_mode": {
    "name": "ipython",
    "version": 3
   },
   "file_extension": ".py",
   "mimetype": "text/x-python",
   "name": "python",
   "nbconvert_exporter": "python",
   "pygments_lexer": "ipython3",
   "version": "3.12.2"
  }
 },
 "nbformat": 4,
 "nbformat_minor": 2
}
