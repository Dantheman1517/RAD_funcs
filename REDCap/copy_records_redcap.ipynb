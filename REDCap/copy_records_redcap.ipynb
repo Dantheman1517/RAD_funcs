{
 "cells": [
  {
   "cell_type": "markdown",
   "metadata": {},
   "source": [
    "# Problem Statement\n",
    "\n",
    "When testing complex REDCap scripts or functionalities, it is **essential** that one tests them in the Test project first before running/using them on the target project.\n",
    "\n",
    "# Solution\n",
    "\n",
    "This notebook exports data from the target project, then import them into the test project. The test project then will have the exact same records as the target project, effectively making them the same.\n",
    "\n",
    "### **This notebook will wipe out all existing data from the Test project before the import. The existing data will still be recoverable through a JSON file, which can later be reimported back.** \n",
    "\n",
    "# Instructions\n",
    "Currently, the API does not allow for importing instruments. Importing instruments has to be done manually.\n",
    "\n",
    "1. Download all instrument zips from target project.\n",
    "2. Download current test project's instrument zips if not relevant to target project.\n",
    "3. Delete current instruments from test project.\n",
    "4. Import the target project's instrument zips into test project.\n",
    "5. Configure repeating instruments if needed.\n",
    "6. Run this notebook.\n",
    "\n"
   ]
  },
  {
   "cell_type": "markdown",
   "metadata": {},
   "source": [
    "# Code \n",
    "### 1. Setup target and test project"
   ]
  },
  {
   "cell_type": "code",
   "execution_count": null,
   "metadata": {},
   "outputs": [],
   "source": [
    "import AMBRA_Backups\n",
    "import json\n",
    "import pandas as pd\n",
    "from datetime import datetime"
   ]
  },
  {
   "cell_type": "code",
   "execution_count": null,
   "metadata": {},
   "outputs": [],
   "source": [
    "# TARGET PROJECT\n",
    "target_project_name = 'I3C DECADE - Image Tracking'\n",
    "target_project = AMBRA_Backups.redcap_funcs.get_redcap_project(target_project_name)\n",
    "\n",
    "# TEST PROJECT\n",
    "test_project_name = 'Personal Test'\n",
    "test_project = AMBRA_Backups.redcap_funcs.get_redcap_project(test_project_name)"
   ]
  },
  {
   "cell_type": "markdown",
   "metadata": {},
   "source": [
    "Wipe out all existing data from `test_project`."
   ]
  },
  {
   "cell_type": "code",
   "execution_count": null,
   "metadata": {},
   "outputs": [
    {
     "name": "stdout",
     "output_type": "stream",
     "text": [
      "['B00000610' 'B00001190' 'B00001393' 'B00002530' 'B00002722' 'B00002902'\n",
      " 'B00003802' 'B00004032' 'B00004372' 'B00005031' 'B00005085' 'B00006816'\n",
      " 'B00007194' 'B00007330' 'B00007489' 'B00008165' 'B00009607' 'B00012481'\n",
      " 'B00012652' 'B00014636' 'B00014673' 'B00015059' 'B00015313' 'B00015584'\n",
      " 'B00016512' 'B00019456' 'B00019680' 'B00020113' 'B00020620' 'B00024704'\n",
      " 'B00025193' 'B00026988' 'B00027665' 'B00032112' 'B00033088' 'B00033991'\n",
      " 'B00037422' 'B00037489' 'B00038493' 'B00039091' 'B00039215' 'B00039252'\n",
      " 'B00043041' 'B00043850' 'B00043929' 'B00044776' 'B00044912' 'B00045577'\n",
      " 'B00048260' 'B00048647' 'B00052882' 'B00054160' 'B00057509' 'B00057648'\n",
      " 'B00058593' 'B00059976' 'B00061970' 'B00062564' 'B00062576' 'B00066403'\n",
      " 'B00066485' 'B00066640' 'B00066850' 'B00066992' 'B00067074' 'B00068019'\n",
      " 'B00068265' 'B00068384' 'B00069073' 'B00072912' 'B00073072' 'B00074416'\n",
      " 'B00079632' 'B00080161' 'B00080800' 'B00081008' 'B00083281' 'B00086832'\n",
      " 'B00089281' 'B00089393' 'B00090119' 'B00090864' 'B00091731' 'B00092545'\n",
      " 'B00094289' 'B00095589' 'B00096592' 'B00096880' 'B00097257' 'B00099840'\n",
      " 'B00101744' 'N00200181' 'N00200201' 'N00200401' 'N00200421' 'N00200621'\n",
      " 'N00200671' 'N00200701' 'N00200841' 'N00200861' 'N00200891' 'N00200931'\n",
      " 'N00200971' 'N00201011' 'N00201151' 'N00201281' 'N00201401' 'N00201421'\n",
      " 'N00201431' 'N00201741' 'N00201781' 'N00201911' 'N00201961' 'N00202011'\n",
      " 'N00202081' 'N00202091' 'N00202101' 'N00202241' 'N00202361' 'N00202561'\n",
      " 'N00202831' 'N00202981' 'N00203071' 'N00203081' 'N00203151' 'N00203351'\n",
      " 'N00203651' 'N00203751' 'N00203791' 'N00204041' 'N00204061' 'N00204101'\n",
      " 'N00204161' 'N00204291' 'N00204311' 'N00204321' 'N00204501' 'N00204691'\n",
      " 'N00204721' 'N00204911' 'N00205191' 'N00205261' 'N00205641' 'N00205861'\n",
      " 'N00205931' 'N00206001' 'N00206211' 'N00206251' 'N00206311' 'N00206381'\n",
      " 'N00206401' 'N00206501' 'N00206571' 'N00206691' 'N00206721' 'N00206771'\n",
      " 'N00206791' 'N00206831' 'N00206841' 'N00206851' 'N00206881' 'N00206891'\n",
      " 'N00206931' 'N00207121' 'N00207141' 'N00207271' 'N00207281' 'N00207581'\n",
      " 'N00207591' 'N00207631' 'N00207691' 'N00207881' 'N00207921' 'N00208121'\n",
      " 'N00208181' 'N00208291' 'N00208301' 'N00208321' 'N00208341' 'N00208381'\n",
      " 'N00208391' 'N00208401' 'N00208421' 'N00208591' 'N00208691' 'N00208771'\n",
      " 'N00208811' 'N00208821' 'N00208951' 'N00209121' 'N00209161' 'N00209191'\n",
      " 'N00209261' 'N00209301' 'N00209351' 'N00209401' 'N00209491' 'N00209701'\n",
      " 'N00209721' 'N00209771' 'N00209821' 'N00209951' 'N00210001' 'N00210011'\n",
      " 'N00210051' 'P2PRS0006' 'P2PRS0027' 'P2PRS0029' 'P2PRS0031' 'P2PRS0032'\n",
      " 'P2PRS0034' 'P2PRS0037' 'P2PRS0048' 'P2PRS0051' 'P2PRS0064' 'P2PRS0066'\n",
      " 'P2PRS0081' 'P2PRS0086' 'P2PRS0093' 'P2PRS0134' 'P2PRS0155' 'P2PRS0202'\n",
      " 'P2PRS0207' 'P2PRS0208' 'P2PRS0220' 'P2PRS0221' 'P2PRS0236' 'P2PRS0240'\n",
      " 'P2PRS0254' 'P2PRS0256' 'P2PRS0273' 'P2PRS0275' 'P2PRS0285' 'P2PRS0288'\n",
      " 'P2PRS0302' 'P2PRS0304' 'P2PRS0307' 'P2PRS0311' 'P2PRS0320' 'P2PRS0321'\n",
      " 'P2PRS0334' 'P2PRS0345' 'P2PRS0347' 'P2PRS0352' 'P2PRS0353' 'P2PRS0361'\n",
      " 'P2PRS0372' 'P2PRS0375' 'P2PRS0376' 'P2PRS0384' 'P2PRS0386' 'P2PRS0387'\n",
      " 'P2PRS0402' 'P2PRS0403' 'P2PRS0405' 'P2PRS0430' 'P2PRS0444' 'P2PRS0449'\n",
      " 'P2PRS0557' 'P2PRS0568' 'P2PRS0569' 'P2PRS0583' 'P2PRS0756' 'P2PRS0794'\n",
      " 'P2PRS0805' 'P2PRS0835' 'P2PRS0859' 'P2PRS0926' 'P2PRS0935' 'P2PRS0938'\n",
      " 'P2PRS1032' 'P2PRS1073' 'P2PRS1108' 'P2PRS1134' 'P2PRS1167' 'P2PRS1323'\n",
      " 'P2PRS1326' 'P2PRS1479' 'P2PRS2242' 'P2PRS2377' 'P2PRS2438' 'P2PRS2470'\n",
      " 'P2PRS2485' 'P2PRS2495' 'P2PRS2503' 'P2PRS2541' 'P2PRS2573' 'P2PRS2607'\n",
      " 'P2PRS2643' 'P2PRS2668' 'P2PRS2711' 'P2PRS2816' 'P2PRS2853' 'P2PRS2874'\n",
      " 'P2PRS2898' 'P2PRS2942' 'P2PRS2972' 'P2PRS3004' 'P2PRS3061' 'P2PRS3107'\n",
      " 'P2PRS3126' 'P2PRS3147' 'P2PRS3184' 'P2PRS3334' 'P2PRS3395' 'P3PRS0114'\n",
      " 'P3PRS0136' 'P3PRS0146' 'P3PRS0159' 'P3PRS0187' 'P3PRS0509' 'P3PRS0511'\n",
      " 'P3PRS0572' 'P3PRS0584' 'P3PRS0598' 'P3PRS0601' 'P3PRS0629' 'P3PRS0686'\n",
      " 'P3PRS0698' 'P3PRS0701' 'P3PRS0736' 'P3PRS0770' 'P3PRS0771' 'P3PRS0813'\n",
      " 'P3PRS0815' 'P3PRS0817' 'P3PRS0819' 'P3PRS0845' 'P3PRS0876' 'P3PRS0927'\n",
      " 'P3PRS1006' 'P3PRS1058' 'P3PRS1196' 'P3PRS1325' 'P3PRS1345' 'P3PRS1430'\n",
      " 'P3PRS1458' 'P3PRS1512' 'P3PRS2051' 'P3PRS2086' 'P3PRS2748' 'P3PRS3355']\n"
     ]
    }
   ],
   "source": [
    "record_column = 'record_id'\n",
    "all_records = test_project.export_records(format_type='df', export_blank_for_gray_form_status=True)\n",
    "all_records.reset_index(inplace=True)\n",
    "\n",
    "# Get record IDs from Test\n",
    "all_records_ids = []\n",
    "if record_column in all_records:\n",
    "   all_records_ids = all_records['record_id'].unique()\n",
    "\n",
    "# Before deleting records, export all current records into a json file\n",
    "all_records_json = test_project.export_records(export_blank_for_gray_form_status=True)\n",
    "json_obj = json.dumps(all_records_json)\n",
    "\n",
    "with open(f'{test_project_name}_{datetime.now()}.json', 'w') as f:\n",
    "   f.write(json_obj)\n"
   ]
  },
  {
   "cell_type": "code",
   "execution_count": null,
   "metadata": {},
   "outputs": [],
   "source": [
    "# Delete all records\n",
    "if len(all_records_ids) > 0:\n",
    "   test_project.delete_records(records=all_records_ids)\n",
    "\n",
    "test_current_records = test_project.export_records(format_type='df', export_blank_for_gray_form_status=True)\n",
    "\n",
    "if len(test_current_records) == 0:\n",
    "   print(f'All records from {test_project_name} REDCap have been deleted')\n",
    "else:\n",
    "   raise ValueError(f'''Some records remain in {test_project_name} REDCap. current records:\n",
    "         ---------\n",
    "         {test_current_records}\n",
    "         ''')"
   ]
  },
  {
   "cell_type": "markdown",
   "metadata": {},
   "source": [
    "### 2. Copy records"
   ]
  },
  {
   "cell_type": "code",
   "execution_count": 5,
   "metadata": {},
   "outputs": [],
   "source": [
    "'''\n",
    "Get current fields from test_project to use as fields filter for\n",
    "target_project's export records. \n",
    "\n",
    "This is needed, as when fields get deleted from a project, they \n",
    "will still show in the export_records() if there are values\n",
    "in them. \n",
    "\n",
    "Since test_project does not have data yet, it would have only the\n",
    "relevant fields and not the deleted fields.\n",
    "'''\n",
    "test_fields_dict = test_project.export_field_names()\n",
    "test_fields = set()\n",
    "\n",
    "for field in test_fields_dict:\n",
    "   test_fields.add(field['original_field_name'])\n",
    "\n",
    "target_records = target_project.export_records(\n",
    "   fields=test_fields, \n",
    "   export_blank_for_gray_form_status=True\n",
    ")\n",
    "target_records"
   ]
  },
  {
   "cell_type": "markdown",
   "metadata": {},
   "source": [
    "Define fields that need to be taken off. \n",
    "\n",
    "This is necessary in cases where options were defined but got deleted from a variable. They would still retain in `export_records` if there's data in them. This is a manual process. \n",
    "\n",
    "Instructions:\n",
    "\n",
    "1. Set `delete_fields = []`. Run cell.\n",
    "2. If an error is thrown, copy the fields mention in the error into \n",
    "`delete_fields`.\n",
    "3. Run cell again."
   ]
  },
  {
   "cell_type": "code",
   "execution_count": 6,
   "metadata": {},
   "outputs": [],
   "source": [
    "delete_fields = [\n",
    "   'sequences_acquired___ni',\n",
    "   'sequences_collected___ni'\n",
    "]\n",
    "\n",
    "for record in target_records:\n",
    "   for field in delete_fields:\n",
    "      record.pop(field, None)"
   ]
  },
  {
   "cell_type": "markdown",
   "metadata": {},
   "source": [
    "Import data into test_project"
   ]
  },
  {
   "cell_type": "code",
   "execution_count": null,
   "metadata": {},
   "outputs": [],
   "source": [
    "test_project.import_records(target_records)"
   ]
  },
  {
   "cell_type": "code",
   "execution_count": null,
   "metadata": {},
   "outputs": [],
   "source": [
    "# See if records imported\n",
    "test_records_df = test_project.export_records(format_type='df', export_blank_for_gray_form_status=True)\n",
    "target_records_df = target_project.export_records(format_type='df', export_blank_for_gray_form_status=True, fields=test_fields)\n",
    "\n",
    "merged_df = pd.merge(test_records_df, target_records_df, how='outer', indicator=True)\n",
    "if (len(merged_df) == len(test_records_df)) & (len(merged_df) == len(target_records_df)):\n",
    "    print(f'''{test_project_name} imported data from {target_project_name} successfully''')\n",
    "else:\n",
    "    merged_df.to_excel(f'{test_project_name}_{target_project_name}_merged_{datetime.now()}.xlsx', header=True)\n",
    "    raise ValueError(f'''Data discrepancies between {test_project_name} and {target_project_name}''')"
   ]
  }
 ],
 "metadata": {
  "kernelspec": {
   "display_name": "redcap-ambra",
   "language": "python",
   "name": "python3"
  },
  "language_info": {
   "codemirror_mode": {
    "name": "ipython",
    "version": 3
   },
   "file_extension": ".py",
   "mimetype": "text/x-python",
   "name": "python",
   "nbconvert_exporter": "python",
   "pygments_lexer": "ipython3",
   "version": "3.12.0"
  }
 },
 "nbformat": 4,
 "nbformat_minor": 2
}
