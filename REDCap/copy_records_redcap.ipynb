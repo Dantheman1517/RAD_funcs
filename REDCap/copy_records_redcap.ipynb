{
 "cells": [
  {
   "cell_type": "markdown",
   "metadata": {},
   "source": [
    "# Problem Statement\n",
    "\n",
    "When testing complex REDCap scripts or functionalities, it is **essential** that one tests them in the Test project first before running/using them on the Target project.\n",
    "Thus, there needs to be a way to make the Test project function just like the Target project.\n",
    "\n",
    "# Solution\n",
    "\n",
    "This notebook exports data from the Target project, then import them into the Test project. The Test project then will have the exact same records as the Target project, effectively making them the same.\n",
    "\n",
    "### **This notebook will wipe out all existing data from the Test project before the import. The existing data will still be recoverable through a JSON file, which can later be reimported back.** \n",
    "\n",
    "# Instructions\n",
    "Currently, the API does not allow for importing instruments. Importing instruments has to be done manually.\n",
    "\n",
    "1. Download all instrument zips from Target project.\n",
    "2. Download current Test project's instrument zips if not relevant to Target project.\n",
    "3. Delete current instruments from Test project.\n",
    "4. Import the Target project's instrument zips into Test project.\n",
    "5. Configure repeating instruments if needed.\n",
    "6. Run this notebook.\n",
    "\n"
   ]
  },
  {
   "cell_type": "markdown",
   "metadata": {},
   "source": [
    "# Code \n",
    "### 1. Setup Target and Test project"
   ]
  },
  {
   "cell_type": "code",
   "execution_count": 33,
   "metadata": {},
   "outputs": [],
   "source": [
    "import AMBRA_Backups\n",
    "import json\n",
    "import pandas as pd\n",
    "from datetime import datetime"
   ]
  },
  {
   "cell_type": "code",
   "execution_count": 34,
   "metadata": {},
   "outputs": [],
   "source": [
    "# TARGET PROJECT\n",
    "target_project_name = 'SISTER - Image Tracking'\n",
    "target_project = AMBRA_Backups.redcap_funcs.get_redcap_project(target_project_name)\n",
    "\n",
    "# TEST PROJECT\n",
    "test_project_name = 'Imaging Core - Test'\n",
    "test_project = AMBRA_Backups.redcap_funcs.get_redcap_project(test_project_name)"
   ]
  },
  {
   "cell_type": "markdown",
   "metadata": {},
   "source": [
    "Wipe out all existing data from `test_project`."
   ]
  },
  {
   "cell_type": "code",
   "execution_count": 35,
   "metadata": {},
   "outputs": [],
   "source": [
    "record_column = 'record_id'\n",
    "all_records = test_project.export_records(format_type='df', export_blank_for_gray_form_status=True)\n",
    "all_records.reset_index(inplace=True)\n",
    "\n",
    "# Get record IDs from Test\n",
    "all_records_ids = []\n",
    "if record_column in all_records:\n",
    "   all_records_ids = all_records['record_id'].unique()\n",
    "\n",
    "# Before deleting records, export all current records into a json file\n",
    "all_records_json = test_project.export_records(export_blank_for_gray_form_status=True)\n",
    "json_obj = json.dumps(all_records_json)\n",
    "\n",
    "with open(f'{test_project_name}_{datetime.now()}.json', 'w') as f:\n",
    "   f.write(json_obj)\n"
   ]
  },
  {
   "cell_type": "code",
   "execution_count": 36,
   "metadata": {},
   "outputs": [
    {
     "name": "stdout",
     "output_type": "stream",
     "text": [
      "All records from Imaging Core - Test REDCap have been deleted\n"
     ]
    }
   ],
   "source": [
    "# Delete all records\n",
    "if len(all_records_ids) > 0:\n",
    "   test_project.delete_records(records=all_records_ids)\n",
    "\n",
    "test_current_records = test_project.export_records(format_type='df', export_blank_for_gray_form_status=True)\n",
    "\n",
    "if len(test_current_records) == 0:\n",
    "   print(f'All records from {test_project_name} REDCap have been deleted')\n",
    "else:\n",
    "   raise ValueError(f'''Some records remain in {test_project_name} REDCap. current records:\n",
    "         ---------\n",
    "         {test_current_records}\n",
    "         ''')"
   ]
  },
  {
   "cell_type": "markdown",
   "metadata": {},
   "source": [
    "### 2. Copy records"
   ]
  },
  {
   "cell_type": "code",
   "execution_count": 37,
   "metadata": {},
   "outputs": [
    {
     "ename": "RequestException",
     "evalue": "{'error': 'The following values in the parameter \"fields\" are not valid: \\'fr509_q10q11_m2_mca\\', \\'fr511_q09\\', \\'q4089\\', \\'sister_image_tracking_90120_minute_solution_complete\\', \\'q2008\\', \\'fr509_q10q11_p2_pca\\', \\'q8095\\', \\'q4046\\', \\'hr_30_4_mrp_init\\', \\'fr511_q24\\', \\'q4012_w_lmca_lpca\\', \\'step_prelim_evt_complete\\', \\'q9106\\', \\'q9088\\', \\'q4043\\', \\'fr511_q04\\', \\'fr511_q16\\', \\'q8106\\', \\'q20cr_sig\\', \\'fr505_q03\\', \\'fr509_q0809_a3_a4_aca\\', \\'ms_ni_com\\', \\'q8087\\', \\'fr505_q17_m1_mca\\', \\'q4017_bas\\', \\'q8101\\', \\'fr509_q10q11_v4\\', \\'dm2mca_t\\', \\'q4093\\', \\'q2\\', \\'q8086\\', \\'q1\\', \\'q4008\\', \\'fr509_q10q11_a3_a4_aca\\', \\'hr_30_4_ctctactp_status\\', \\'pytest_text\\', \\'fr511_q26\\', \\'fr509_q0809_m2_mca\\', \\'q4022_int_cap\\', \\'a3\\', \\'ba\\', \\'ms_ni_plv\\', \\'q4063\\', \\'ellies_test_complete\\', \\'ndm2mca\\', \\'q8009\\', \\'q4012_raca\\', \\'a2_t\\', \\'fr505_q09\\', \\'fr505_add_nondom_m2_mca\\', \\'q4098\\', \\'siteid\\', \\'q4110\\', \\'fr505_add_m4_mca\\', \\'fr511_q17\\', \\'fr505_q05\\', \\'q8099\\', \\'ms_evt_readstatus\\', \\'q4013_r_pica\\', \\'q9089\\', \\'c3\\', \\'q8096\\', \\'ica\\', \\'fr511_q03\\', \\'hr_30_4_ctctactp_complete\\', \\'q9090\\', \\'q4012_w_rmca_rpca\\', \\'q4091\\', \\'q4012_r_len_str\\', \\'patients_info_complete\\', \\'va\\', \\'fr511_q21\\', \\'ms_evt_crpcomm\\', \\'q9098\\', \\'q1006\\', \\'q4017_other_box\\', \\'check_box_var\\', \\'fr505_q17_a1\\', \\'fr505_q17_p2\\', \\'embed_test_complete\\', \\'q4012_r_heub\\', \\'repeat_instrument_form_status\\', \\'fr505_q17_nondom_m2_mca\\', \\'q4032_sub\\', \\'q8097\\', \\'ms_evt_crp_int\\', \\'q4108\\', \\'q4047\\', \\'q8092\\', \\'q4057\\', \\'fr505_certify\\', \\'q1004l2\\', \\'q4012_l_len_str\\', \\'fr511_q14\\', \\'fr509_certify\\', \\'q4016\\', \\'q9104\\', \\'fr511_status\\', \\'q2007\\', \\'q9092\\', \\'q4012_r_pca\\', \\'q4027_m5\\', \\'mp_q10gc\\', \\'fr505_crp_init\\', \\'q8008\\', \\'ms_ni_iclv\\', \\'q4039\\', \\'q8107\\', \\'new_pat_field\\', \\'fr505_q17_p3\\', \\'q8098\\', \\'q4051\\', \\'q4013_r_pca_ct\\', \\'fr509_q43\\', \\'q9009a\\', \\'q4060\\', \\'q7094\\', \\'check_var\\', \\'fr505_add_a2\\', \\'fr505_signature_date\\', \\'multi_choice\\', \\'q3\\', \\'fr505_q17_m3_mca\\', \\'fr509_q10q11_v1\\', \\'q9101\\', \\'fr509_q0809_p2_pca\\', \\'fr505_q08\\', \\'q9009\\', \\'fr509_q05\\', \\'q8094\\', \\'q4034\\', \\'q4017_r_aca_iv\\', \\'q4032\\', \\'m4mca_t\\', \\'fr509_q10q11_intra_ica\\', \\'a1_1\\', \\'ndm2mca_t\\', \\'q9097\\', \\'q4097\\', \\'q4041\\', \\'q8093\\', \\'api_certify_captiva_test_complete\\', \\'hr_30_4_mrp_status\\', \\'hr_30_4_ctctactp_init\\', \\'a2\\', \\'q8089\\', \\'q4037\\', \\'fr511_q02\\', \\'q4012_l_heub\\', \\'fr511_q18\\', \\'fr511_q01\\', \\'repeat_instrument_form_complete\\', \\'fr511_q31\\', \\'fr511_crp_cmt\\', \\'va_t\\', \\'q1001\\', \\'fr511_crp_init\\', \\'q1060\\', \\'fr505_q17_p1\\', \\'a3_t\\', \\'q1002\\', \\'pytest_checkbox\\', \\'baselinemradatetime\\', \\'baselinectimageupload\\', \\'repeat_instrument_form_2_complete\\', \\'q4010\\', \\'q9008a\\', \\'q1005\\', \\'fr505_add_basilar\\', \\'q4012_w_raca_rmca\\', \\'fr509_q06\\', \\'baseline_mrp_sister_complete\\', \\'form2_radio_2\\', \\'mp_ni_comments\\', \\'fr511_q20\\', \\'q1004l\\', \\'fr511_q12\\', \\'hr_30_4_ctctactp_comments\\', \\'q4094\\', \\'a\\', \\'fr509_q13\\', \\'file_upload_complete\\', \\'q4062\\', \\'pytest_dropdown\\', \\'fr509_crp_cmt\\', \\'a1_t\\', \\'fr511_certify\\', \\'baselinemrpdatetime\\', \\'fr509_q10q11_cervical_ica\\', \\'q4015\\', \\'baselinectpdatetime\\', \\'q8102\\', \\'q4033\\', \\'q4017_r_car_term\\', \\'time\\', \\'fr505_add_m1_mca\\', \\'fr511_q10\\', \\'q4035\\', \\'fr505_q02\\', \\'q2002\\', \\'fr511_q15\\', \\'q8131\\', \\'q4065\\', \\'q2009\\', \\'fr505_status\\', \\'p3\\', \\'rb_4_var\\', \\'q4007\\', \\'fr509_q07\\', \\'fr509_q10q11_basilar\\', \\'mp_q10rc_sig\\', \\'q4042\\', \\'q4013_r_sca\\', \\'fr505_q17_m4_mca\\', \\'fr509_additional_occlusion\\', \\'q4031\\', \\'fr505_q17_basilar\\', \\'q4099\\', \\'q4053\\', \\'q4024_m2\\', \\'q4030\\', \\'q4019_cau\\', \\'a1\\', \\'q8088\\', \\'m1mca\\', \\'fr505_q49\\', \\'fr505_add_a1\\', \\'baselinectdatetime\\', \\'q4095\\', \\'ms_ni_im\\', \\'patients_complete\\', \\'q4013_bas_per\\', \\'q4104\\', \\'fr509_q0809_distal_ica\\', \\'q4003\\', \\'baseline_mrp_init\\', \\'fr511_q13\\', \\'fr511_q30\\', \\'q4045\\', \\'q4013_l_aica\\', \\'fr511_q25\\', \\'q9131\\', \\'cap_cert_complete\\', \\'fr505_q50\\', \\'cdm2mca_t\\', \\'q4012_rmca\\', \\'fr505_q17_codom_m2_mca\\', \\'q8100\\', \\'fr509_q0809_cervical_ica\\', \\'step_ni_findings_complete\\', \\'q4050\\', \\'fr511_q11\\', \\'fr505_q16\\', \\'fr509_q0809_basilar\\', \\'dans_test_instrument_complete\\', \\'q4012_r_ant_ch_art\\', \\'q1004c\\', \\'q8104\\', \\'m3mca_t\\', \\'fr505_add_p3\\', \\'q4006\\', \\'fr509_signature_date\\', \\'q9102\\', \\'q4038\\', \\'ica1_t\\', \\'rb_1_var\\', \\'mp_ni_crf_status\\', \\'fr511_q07\\', \\'q4052\\', \\'fr511_notes\\', \\'fr505_q12\\', \\'fr509_q0809_v2_v3\\', \\'fr505_q01\\', \\'q1004r2\\', \\'fr505_q14\\', \\'fr509_q10q11_a1_aca\\', \\'p2_t\\', \\'q2003\\', \\'exclude_list\\', \\'q4025_m3\\', \\'q4013_l_pica\\', \\'datetimearrival\\', \\'fr505_q17_a3\\', \\'fr505_add_p1\\', \\'q4029_total\\', \\'fr505_q11\\', \\'q4100\\', \\'fr505_q10\\', \\'q4026_m4\\', \\'q9093\\', \\'ms_ni_datetime0\\', \\'q4028_m6\\', \\'q9091\\', \\'q1004r\\', \\'q4017_r_mca\\', \\'q4055\\', \\'q2001\\', \\'q9107\\', \\'fr505_q06\\', \\'hr_30_4_mrp_sister_complete\\', \\'q4004\\', \\'q4012_w_laca_lpca\\', \\'central_reads_intracranial_hemorrhage_complete\\', \\'q4106\\', \\'q4017_r_pca_iv\\', \\'fr505_q17_vertebral\\', \\'q4056\\', \\'fr509_q10q11_basilar_apex\\', \\'q4087\\', \\'q4103\\', \\'fr509_q10q11_m1_mca\\', \\'fr505_q07\\', \\'fr509_q0809_m1_mca\\', \\'c2\\', \\'fr511_q23\\', \\'q9100\\', \\'q4017_l_mca\\', \\'q4005\\', \\'ms_ni_hemtype\\', \\'fr511_q29\\', \\'fr505_q17_dom_m2_mca\\', \\'c1\\', \\'q1003\\', \\'q4011\\', \\'q4017_other\\', \\'baselinectadatetime\\', \\'q9129\\', \\'tracking_window\\', \\'fr509_q10q11_v2_v3\\', \\'text\\', \\'q4012_r_post_cer_art\\', \\'q4012_w_raca_rpca\\', \\'c1_c2\\', \\'q4012_l_mca\\', \\'q9103\\', \\'q4049\\', \\'fr509_q10q11_distal_ica\\', \\'p2\\', \\'q4009\\', \\'fr509_q0809_p3_p4_pca\\', \\'q8091\\', \\'pytest_radio\\', \\'c\\', \\'fr509_q0809_v1\\', \\'fr505_q04\\', \\'q2005\\', \\'fr509_q0809_v4\\', \\'baseline_mrp_status\\', \\'fr509_q10q11_p3_p4_pca\\', \\'fr509_q0809_a2_aca\\', \\'fr505_unknown\\', \\'mp_ni_init\\', \\'q4020_len_nuc\\', \\'assets_choices\\', \\'q4054\\', \\'fr505_crp_cmt\\', \\'fr509_q12\\', \\'q2004\\', \\'fr509_notes\\', \\'m4mca\\', \\'ba_t\\', \\'q4012_l_post_cer_art\\', \\'fr511_q06\\', \\'q4013_r_aica\\', \\'fr505_add_codom_m2_mca\\', \\'q9096\\', \\'fr509_status\\', \\'q4044\\', \\'q8090\\', \\'q4012_l_ant_ch_art\\', \\'fr505_q18\\', \\'q4111\\', \\'q4048\\', \\'fr511_q19\\', \\'p3_t\\', \\'step_prelim_ni_finding_complete\\', \\'fr509_crp_init\\', \\'dm2mca\\', \\'please_dont_edit_form_for_testing_complete\\', \\'q4017_l_pca_iv\\', \\'q8103\\', \\'q4023_m1\\', \\'q9087\\', \\'ms_ni_aspect1\\', \\'fr511_q22\\', \\'fr505_add_a3\\', \\'fr505_q17_ica\\', \\'q8105\\', \\'rb_2_var\\', \\'fr505_add_dom_m2_mca\\', \\'hr_30_4_mrp_comments\\', \\'q4036\\', \\'q4058\\', \\'fr505_notes\\', \\'baseline_mrp_comments\\', \\'fr509_q42\\', \\'fr511_q27\\', \\'box\\', \\'q4013_l_sca\\', \\'q4040\\', \\'fr505_add_ica\\', \\'fr511_q08\\', \\'q4059\\', \\'baselinemrdatetime\\', \\'q9086\\', \\'q20cr_comms\\', \\'q4012_l_pca\\', \\'fr505_add_p2\\', \\'q4105\\', \\'fr505_add_vertebral\\', \\'q4061\\', \\'fr509_q10q11_a2_aca\\', \\'int_test\\', \\'q2006\\', \\'q9105\\', \\'q4109\\', \\'m3mca\\', \\'q8129\\', \\'q4012_laca\\', \\'q4017_l_car_term\\', \\'fr509_q0809_intra_ica\\', \\'central_reads_evt_procedure_complete\\', \\'cap_sig\\', \\'q4002\\', \\'q4013_l_pca_ct\\', \\'q9095\\', \\'q9099\\', \\'p1_t\\', \\'fr511_signature_date\\', \\'fr505_q17_a2\\', \\'baseline_images\\', \\'fr509_q0809_a1_aca\\', \\'q4021_ins_rib\\', \\'m1mca_t\\', \\'fr509_q03\\', \\'fr509_q0809_basilar_apex\\', \\'fr509_q0809_m3_m4_mca\\', \\'fr509_q10q11_p1_pca\\', \\'fr509_q0809_p1_pca\\', \\'fr511_q28\\', \\'rb_3_var\\', \\'q4012_w_laca_lmca\\', \\'central_reads_ni_findings_complete\\', \\'q4017_l_aca_iv\\', \\'fr505_add_m3_mca\\', \\'cdm2mca\\', \\'fr505_q13\\', \\'q4102\\', \\'fr511_q05\\', \\'p1\\''}",
     "output_type": "error",
     "traceback": [
      "\u001b[0;31m---------------------------------------------------------------------------\u001b[0m",
      "\u001b[0;31mRequestException\u001b[0m                          Traceback (most recent call last)",
      "Cell \u001b[0;32mIn[37], line 18\u001b[0m\n\u001b[1;32m     15\u001b[0m \u001b[38;5;28;01mfor\u001b[39;00m field \u001b[38;5;129;01min\u001b[39;00m test_fields_dict:\n\u001b[1;32m     16\u001b[0m    test_fields\u001b[38;5;241m.\u001b[39madd(field[\u001b[38;5;124m'\u001b[39m\u001b[38;5;124moriginal_field_name\u001b[39m\u001b[38;5;124m'\u001b[39m])\n\u001b[0;32m---> 18\u001b[0m target_records \u001b[38;5;241m=\u001b[39m \u001b[43mtarget_project\u001b[49m\u001b[38;5;241;43m.\u001b[39;49m\u001b[43mexport_records\u001b[49m\u001b[43m(\u001b[49m\n\u001b[1;32m     19\u001b[0m \u001b[43m   \u001b[49m\u001b[43mfields\u001b[49m\u001b[38;5;241;43m=\u001b[39;49m\u001b[43mtest_fields\u001b[49m\u001b[43m,\u001b[49m\u001b[43m \u001b[49m\n\u001b[1;32m     20\u001b[0m \u001b[43m   \u001b[49m\u001b[43mexport_blank_for_gray_form_status\u001b[49m\u001b[38;5;241;43m=\u001b[39;49m\u001b[38;5;28;43;01mTrue\u001b[39;49;00m\n\u001b[1;32m     21\u001b[0m \u001b[43m)\u001b[49m\n\u001b[1;32m     22\u001b[0m target_records\n",
      "File \u001b[0;32m~/environments/rad/lib/python3.12/site-packages/redcap/methods/records.py:239\u001b[0m, in \u001b[0;36mRecords.export_records\u001b[0;34m(self, format_type, records, fields, forms, events, raw_or_label, raw_or_label_headers, event_name, record_type, export_survey_fields, export_data_access_groups, export_checkbox_labels, filter_logic, date_begin, date_end, decimal_character, export_blank_for_gray_form_status, df_kwargs)\u001b[0m\n\u001b[1;32m    236\u001b[0m     payload[\u001b[38;5;124m\"\u001b[39m\u001b[38;5;124mdateRangeEnd\u001b[39m\u001b[38;5;124m\"\u001b[39m] \u001b[38;5;241m=\u001b[39m date_end\u001b[38;5;241m.\u001b[39mstrftime(\u001b[38;5;124m\"\u001b[39m\u001b[38;5;124m%\u001b[39m\u001b[38;5;124mY-\u001b[39m\u001b[38;5;124m%\u001b[39m\u001b[38;5;124mm-\u001b[39m\u001b[38;5;132;01m%d\u001b[39;00m\u001b[38;5;124m \u001b[39m\u001b[38;5;124m%\u001b[39m\u001b[38;5;124mH:\u001b[39m\u001b[38;5;124m%\u001b[39m\u001b[38;5;124mM:\u001b[39m\u001b[38;5;124m%\u001b[39m\u001b[38;5;124mS\u001b[39m\u001b[38;5;124m\"\u001b[39m)\n\u001b[1;32m    238\u001b[0m return_type \u001b[38;5;241m=\u001b[39m \u001b[38;5;28mself\u001b[39m\u001b[38;5;241m.\u001b[39m_lookup_return_type(format_type, request_type\u001b[38;5;241m=\u001b[39m\u001b[38;5;124m\"\u001b[39m\u001b[38;5;124mexport\u001b[39m\u001b[38;5;124m\"\u001b[39m)\n\u001b[0;32m--> 239\u001b[0m response \u001b[38;5;241m=\u001b[39m cast(Union[Json, \u001b[38;5;28mstr\u001b[39m], \u001b[38;5;28;43mself\u001b[39;49m\u001b[38;5;241;43m.\u001b[39;49m\u001b[43m_call_api\u001b[49m\u001b[43m(\u001b[49m\u001b[43mpayload\u001b[49m\u001b[43m,\u001b[49m\u001b[43m \u001b[49m\u001b[43mreturn_type\u001b[49m\u001b[43m)\u001b[49m)\n\u001b[1;32m    241\u001b[0m \u001b[38;5;28;01mreturn\u001b[39;00m \u001b[38;5;28mself\u001b[39m\u001b[38;5;241m.\u001b[39m_return_data(\n\u001b[1;32m    242\u001b[0m     response\u001b[38;5;241m=\u001b[39mresponse,\n\u001b[1;32m    243\u001b[0m     content\u001b[38;5;241m=\u001b[39m\u001b[38;5;124m\"\u001b[39m\u001b[38;5;124mrecord\u001b[39m\u001b[38;5;124m\"\u001b[39m,\n\u001b[0;32m   (...)\u001b[0m\n\u001b[1;32m    246\u001b[0m     record_type\u001b[38;5;241m=\u001b[39mrecord_type,\n\u001b[1;32m    247\u001b[0m )\n",
      "File \u001b[0;32m~/environments/rad/lib/python3.12/site-packages/redcap/methods/base.py:437\u001b[0m, in \u001b[0;36mBase._call_api\u001b[0;34m(self, payload, return_type, file)\u001b[0m\n\u001b[1;32m    434\u001b[0m return_headers \u001b[38;5;241m=\u001b[39m return_type \u001b[38;5;241m==\u001b[39m \u001b[38;5;124m\"\u001b[39m\u001b[38;5;124mfile_map\u001b[39m\u001b[38;5;124m\"\u001b[39m\n\u001b[1;32m    436\u001b[0m rcr \u001b[38;5;241m=\u001b[39m _RCRequest(url\u001b[38;5;241m=\u001b[39m\u001b[38;5;28mself\u001b[39m\u001b[38;5;241m.\u001b[39murl, payload\u001b[38;5;241m=\u001b[39mpayload, config\u001b[38;5;241m=\u001b[39mconfig)\n\u001b[0;32m--> 437\u001b[0m \u001b[38;5;28;01mreturn\u001b[39;00m \u001b[43mrcr\u001b[49m\u001b[38;5;241;43m.\u001b[39;49m\u001b[43mexecute\u001b[49m\u001b[43m(\u001b[49m\n\u001b[1;32m    438\u001b[0m \u001b[43m    \u001b[49m\u001b[43mverify_ssl\u001b[49m\u001b[38;5;241;43m=\u001b[39;49m\u001b[38;5;28;43mself\u001b[39;49m\u001b[38;5;241;43m.\u001b[39;49m\u001b[43mverify_ssl\u001b[49m\u001b[43m,\u001b[49m\n\u001b[1;32m    439\u001b[0m \u001b[43m    \u001b[49m\u001b[43mreturn_headers\u001b[49m\u001b[38;5;241;43m=\u001b[39;49m\u001b[43mreturn_headers\u001b[49m\u001b[43m,\u001b[49m\n\u001b[1;32m    440\u001b[0m \u001b[43m    \u001b[49m\u001b[43mfile\u001b[49m\u001b[38;5;241;43m=\u001b[39;49m\u001b[43mfile\u001b[49m\u001b[43m,\u001b[49m\n\u001b[1;32m    441\u001b[0m \u001b[43m    \u001b[49m\u001b[38;5;241;43m*\u001b[39;49m\u001b[38;5;241;43m*\u001b[39;49m\u001b[38;5;28;43mself\u001b[39;49m\u001b[38;5;241;43m.\u001b[39;49m\u001b[43m_request_kwargs\u001b[49m\u001b[43m,\u001b[49m\n\u001b[1;32m    442\u001b[0m \u001b[43m\u001b[49m\u001b[43m)\u001b[49m\n",
      "File \u001b[0;32m~/environments/rad/lib/python3.12/site-packages/redcap/request.py:209\u001b[0m, in \u001b[0;36m_RCRequest.execute\u001b[0;34m(self, verify_ssl, return_headers, file, **kwargs)\u001b[0m\n\u001b[1;32m    206\u001b[0m     bad_request \u001b[38;5;241m=\u001b[39m \u001b[38;5;124m\"\u001b[39m\u001b[38;5;124m<error>\u001b[39m\u001b[38;5;124m\"\u001b[39m \u001b[38;5;129;01min\u001b[39;00m \u001b[38;5;28mstr\u001b[39m(content)\u001b[38;5;241m.\u001b[39mlower()\n\u001b[1;32m    208\u001b[0m \u001b[38;5;28;01mif\u001b[39;00m bad_request:\n\u001b[0;32m--> 209\u001b[0m     \u001b[38;5;28;01mraise\u001b[39;00m RedcapError(content)\n\u001b[1;32m    211\u001b[0m \u001b[38;5;28;01mif\u001b[39;00m return_headers:\n\u001b[1;32m    212\u001b[0m     \u001b[38;5;28;01mreturn\u001b[39;00m content, response\u001b[38;5;241m.\u001b[39mheaders\n",
      "\u001b[0;31mRequestException\u001b[0m: {'error': 'The following values in the parameter \"fields\" are not valid: \\'fr509_q10q11_m2_mca\\', \\'fr511_q09\\', \\'q4089\\', \\'sister_image_tracking_90120_minute_solution_complete\\', \\'q2008\\', \\'fr509_q10q11_p2_pca\\', \\'q8095\\', \\'q4046\\', \\'hr_30_4_mrp_init\\', \\'fr511_q24\\', \\'q4012_w_lmca_lpca\\', \\'step_prelim_evt_complete\\', \\'q9106\\', \\'q9088\\', \\'q4043\\', \\'fr511_q04\\', \\'fr511_q16\\', \\'q8106\\', \\'q20cr_sig\\', \\'fr505_q03\\', \\'fr509_q0809_a3_a4_aca\\', \\'ms_ni_com\\', \\'q8087\\', \\'fr505_q17_m1_mca\\', \\'q4017_bas\\', \\'q8101\\', \\'fr509_q10q11_v4\\', \\'dm2mca_t\\', \\'q4093\\', \\'q2\\', \\'q8086\\', \\'q1\\', \\'q4008\\', \\'fr509_q10q11_a3_a4_aca\\', \\'hr_30_4_ctctactp_status\\', \\'pytest_text\\', \\'fr511_q26\\', \\'fr509_q0809_m2_mca\\', \\'q4022_int_cap\\', \\'a3\\', \\'ba\\', \\'ms_ni_plv\\', \\'q4063\\', \\'ellies_test_complete\\', \\'ndm2mca\\', \\'q8009\\', \\'q4012_raca\\', \\'a2_t\\', \\'fr505_q09\\', \\'fr505_add_nondom_m2_mca\\', \\'q4098\\', \\'siteid\\', \\'q4110\\', \\'fr505_add_m4_mca\\', \\'fr511_q17\\', \\'fr505_q05\\', \\'q8099\\', \\'ms_evt_readstatus\\', \\'q4013_r_pica\\', \\'q9089\\', \\'c3\\', \\'q8096\\', \\'ica\\', \\'fr511_q03\\', \\'hr_30_4_ctctactp_complete\\', \\'q9090\\', \\'q4012_w_rmca_rpca\\', \\'q4091\\', \\'q4012_r_len_str\\', \\'patients_info_complete\\', \\'va\\', \\'fr511_q21\\', \\'ms_evt_crpcomm\\', \\'q9098\\', \\'q1006\\', \\'q4017_other_box\\', \\'check_box_var\\', \\'fr505_q17_a1\\', \\'fr505_q17_p2\\', \\'embed_test_complete\\', \\'q4012_r_heub\\', \\'repeat_instrument_form_status\\', \\'fr505_q17_nondom_m2_mca\\', \\'q4032_sub\\', \\'q8097\\', \\'ms_evt_crp_int\\', \\'q4108\\', \\'q4047\\', \\'q8092\\', \\'q4057\\', \\'fr505_certify\\', \\'q1004l2\\', \\'q4012_l_len_str\\', \\'fr511_q14\\', \\'fr509_certify\\', \\'q4016\\', \\'q9104\\', \\'fr511_status\\', \\'q2007\\', \\'q9092\\', \\'q4012_r_pca\\', \\'q4027_m5\\', \\'mp_q10gc\\', \\'fr505_crp_init\\', \\'q8008\\', \\'ms_ni_iclv\\', \\'q4039\\', \\'q8107\\', \\'new_pat_field\\', \\'fr505_q17_p3\\', \\'q8098\\', \\'q4051\\', \\'q4013_r_pca_ct\\', \\'fr509_q43\\', \\'q9009a\\', \\'q4060\\', \\'q7094\\', \\'check_var\\', \\'fr505_add_a2\\', \\'fr505_signature_date\\', \\'multi_choice\\', \\'q3\\', \\'fr505_q17_m3_mca\\', \\'fr509_q10q11_v1\\', \\'q9101\\', \\'fr509_q0809_p2_pca\\', \\'fr505_q08\\', \\'q9009\\', \\'fr509_q05\\', \\'q8094\\', \\'q4034\\', \\'q4017_r_aca_iv\\', \\'q4032\\', \\'m4mca_t\\', \\'fr509_q10q11_intra_ica\\', \\'a1_1\\', \\'ndm2mca_t\\', \\'q9097\\', \\'q4097\\', \\'q4041\\', \\'q8093\\', \\'api_certify_captiva_test_complete\\', \\'hr_30_4_mrp_status\\', \\'hr_30_4_ctctactp_init\\', \\'a2\\', \\'q8089\\', \\'q4037\\', \\'fr511_q02\\', \\'q4012_l_heub\\', \\'fr511_q18\\', \\'fr511_q01\\', \\'repeat_instrument_form_complete\\', \\'fr511_q31\\', \\'fr511_crp_cmt\\', \\'va_t\\', \\'q1001\\', \\'fr511_crp_init\\', \\'q1060\\', \\'fr505_q17_p1\\', \\'a3_t\\', \\'q1002\\', \\'pytest_checkbox\\', \\'baselinemradatetime\\', \\'baselinectimageupload\\', \\'repeat_instrument_form_2_complete\\', \\'q4010\\', \\'q9008a\\', \\'q1005\\', \\'fr505_add_basilar\\', \\'q4012_w_raca_rmca\\', \\'fr509_q06\\', \\'baseline_mrp_sister_complete\\', \\'form2_radio_2\\', \\'mp_ni_comments\\', \\'fr511_q20\\', \\'q1004l\\', \\'fr511_q12\\', \\'hr_30_4_ctctactp_comments\\', \\'q4094\\', \\'a\\', \\'fr509_q13\\', \\'file_upload_complete\\', \\'q4062\\', \\'pytest_dropdown\\', \\'fr509_crp_cmt\\', \\'a1_t\\', \\'fr511_certify\\', \\'baselinemrpdatetime\\', \\'fr509_q10q11_cervical_ica\\', \\'q4015\\', \\'baselinectpdatetime\\', \\'q8102\\', \\'q4033\\', \\'q4017_r_car_term\\', \\'time\\', \\'fr505_add_m1_mca\\', \\'fr511_q10\\', \\'q4035\\', \\'fr505_q02\\', \\'q2002\\', \\'fr511_q15\\', \\'q8131\\', \\'q4065\\', \\'q2009\\', \\'fr505_status\\', \\'p3\\', \\'rb_4_var\\', \\'q4007\\', \\'fr509_q07\\', \\'fr509_q10q11_basilar\\', \\'mp_q10rc_sig\\', \\'q4042\\', \\'q4013_r_sca\\', \\'fr505_q17_m4_mca\\', \\'fr509_additional_occlusion\\', \\'q4031\\', \\'fr505_q17_basilar\\', \\'q4099\\', \\'q4053\\', \\'q4024_m2\\', \\'q4030\\', \\'q4019_cau\\', \\'a1\\', \\'q8088\\', \\'m1mca\\', \\'fr505_q49\\', \\'fr505_add_a1\\', \\'baselinectdatetime\\', \\'q4095\\', \\'ms_ni_im\\', \\'patients_complete\\', \\'q4013_bas_per\\', \\'q4104\\', \\'fr509_q0809_distal_ica\\', \\'q4003\\', \\'baseline_mrp_init\\', \\'fr511_q13\\', \\'fr511_q30\\', \\'q4045\\', \\'q4013_l_aica\\', \\'fr511_q25\\', \\'q9131\\', \\'cap_cert_complete\\', \\'fr505_q50\\', \\'cdm2mca_t\\', \\'q4012_rmca\\', \\'fr505_q17_codom_m2_mca\\', \\'q8100\\', \\'fr509_q0809_cervical_ica\\', \\'step_ni_findings_complete\\', \\'q4050\\', \\'fr511_q11\\', \\'fr505_q16\\', \\'fr509_q0809_basilar\\', \\'dans_test_instrument_complete\\', \\'q4012_r_ant_ch_art\\', \\'q1004c\\', \\'q8104\\', \\'m3mca_t\\', \\'fr505_add_p3\\', \\'q4006\\', \\'fr509_signature_date\\', \\'q9102\\', \\'q4038\\', \\'ica1_t\\', \\'rb_1_var\\', \\'mp_ni_crf_status\\', \\'fr511_q07\\', \\'q4052\\', \\'fr511_notes\\', \\'fr505_q12\\', \\'fr509_q0809_v2_v3\\', \\'fr505_q01\\', \\'q1004r2\\', \\'fr505_q14\\', \\'fr509_q10q11_a1_aca\\', \\'p2_t\\', \\'q2003\\', \\'exclude_list\\', \\'q4025_m3\\', \\'q4013_l_pica\\', \\'datetimearrival\\', \\'fr505_q17_a3\\', \\'fr505_add_p1\\', \\'q4029_total\\', \\'fr505_q11\\', \\'q4100\\', \\'fr505_q10\\', \\'q4026_m4\\', \\'q9093\\', \\'ms_ni_datetime0\\', \\'q4028_m6\\', \\'q9091\\', \\'q1004r\\', \\'q4017_r_mca\\', \\'q4055\\', \\'q2001\\', \\'q9107\\', \\'fr505_q06\\', \\'hr_30_4_mrp_sister_complete\\', \\'q4004\\', \\'q4012_w_laca_lpca\\', \\'central_reads_intracranial_hemorrhage_complete\\', \\'q4106\\', \\'q4017_r_pca_iv\\', \\'fr505_q17_vertebral\\', \\'q4056\\', \\'fr509_q10q11_basilar_apex\\', \\'q4087\\', \\'q4103\\', \\'fr509_q10q11_m1_mca\\', \\'fr505_q07\\', \\'fr509_q0809_m1_mca\\', \\'c2\\', \\'fr511_q23\\', \\'q9100\\', \\'q4017_l_mca\\', \\'q4005\\', \\'ms_ni_hemtype\\', \\'fr511_q29\\', \\'fr505_q17_dom_m2_mca\\', \\'c1\\', \\'q1003\\', \\'q4011\\', \\'q4017_other\\', \\'baselinectadatetime\\', \\'q9129\\', \\'tracking_window\\', \\'fr509_q10q11_v2_v3\\', \\'text\\', \\'q4012_r_post_cer_art\\', \\'q4012_w_raca_rpca\\', \\'c1_c2\\', \\'q4012_l_mca\\', \\'q9103\\', \\'q4049\\', \\'fr509_q10q11_distal_ica\\', \\'p2\\', \\'q4009\\', \\'fr509_q0809_p3_p4_pca\\', \\'q8091\\', \\'pytest_radio\\', \\'c\\', \\'fr509_q0809_v1\\', \\'fr505_q04\\', \\'q2005\\', \\'fr509_q0809_v4\\', \\'baseline_mrp_status\\', \\'fr509_q10q11_p3_p4_pca\\', \\'fr509_q0809_a2_aca\\', \\'fr505_unknown\\', \\'mp_ni_init\\', \\'q4020_len_nuc\\', \\'assets_choices\\', \\'q4054\\', \\'fr505_crp_cmt\\', \\'fr509_q12\\', \\'q2004\\', \\'fr509_notes\\', \\'m4mca\\', \\'ba_t\\', \\'q4012_l_post_cer_art\\', \\'fr511_q06\\', \\'q4013_r_aica\\', \\'fr505_add_codom_m2_mca\\', \\'q9096\\', \\'fr509_status\\', \\'q4044\\', \\'q8090\\', \\'q4012_l_ant_ch_art\\', \\'fr505_q18\\', \\'q4111\\', \\'q4048\\', \\'fr511_q19\\', \\'p3_t\\', \\'step_prelim_ni_finding_complete\\', \\'fr509_crp_init\\', \\'dm2mca\\', \\'please_dont_edit_form_for_testing_complete\\', \\'q4017_l_pca_iv\\', \\'q8103\\', \\'q4023_m1\\', \\'q9087\\', \\'ms_ni_aspect1\\', \\'fr511_q22\\', \\'fr505_add_a3\\', \\'fr505_q17_ica\\', \\'q8105\\', \\'rb_2_var\\', \\'fr505_add_dom_m2_mca\\', \\'hr_30_4_mrp_comments\\', \\'q4036\\', \\'q4058\\', \\'fr505_notes\\', \\'baseline_mrp_comments\\', \\'fr509_q42\\', \\'fr511_q27\\', \\'box\\', \\'q4013_l_sca\\', \\'q4040\\', \\'fr505_add_ica\\', \\'fr511_q08\\', \\'q4059\\', \\'baselinemrdatetime\\', \\'q9086\\', \\'q20cr_comms\\', \\'q4012_l_pca\\', \\'fr505_add_p2\\', \\'q4105\\', \\'fr505_add_vertebral\\', \\'q4061\\', \\'fr509_q10q11_a2_aca\\', \\'int_test\\', \\'q2006\\', \\'q9105\\', \\'q4109\\', \\'m3mca\\', \\'q8129\\', \\'q4012_laca\\', \\'q4017_l_car_term\\', \\'fr509_q0809_intra_ica\\', \\'central_reads_evt_procedure_complete\\', \\'cap_sig\\', \\'q4002\\', \\'q4013_l_pca_ct\\', \\'q9095\\', \\'q9099\\', \\'p1_t\\', \\'fr511_signature_date\\', \\'fr505_q17_a2\\', \\'baseline_images\\', \\'fr509_q0809_a1_aca\\', \\'q4021_ins_rib\\', \\'m1mca_t\\', \\'fr509_q03\\', \\'fr509_q0809_basilar_apex\\', \\'fr509_q0809_m3_m4_mca\\', \\'fr509_q10q11_p1_pca\\', \\'fr509_q0809_p1_pca\\', \\'fr511_q28\\', \\'rb_3_var\\', \\'q4012_w_laca_lmca\\', \\'central_reads_ni_findings_complete\\', \\'q4017_l_aca_iv\\', \\'fr505_add_m3_mca\\', \\'cdm2mca\\', \\'fr505_q13\\', \\'q4102\\', \\'fr511_q05\\', \\'p1\\''}"
     ]
    }
   ],
   "source": [
    "'''\n",
    "Get current fields from test_project to use as fields filter for\n",
    "target_project's export records. \n",
    "\n",
    "This is needed, as when fields get deleted from a project, they \n",
    "will still show in the export_records() if there are values\n",
    "in them. \n",
    "'''\n",
    "# If the field is deleted, it should not show up in export_records() \n",
    "# regardless if there is a value in it\n",
    "'''\n",
    "Since test_project does not have data yet, it would have only the\n",
    "relevant fields and not the deleted fields.\n",
    "'''\n",
    "\n",
    "test_fields_dict = test_project.export_field_names()\n",
    "test_fields = set()\n",
    "\n",
    "for field in test_fields_dict:\n",
    "   test_fields.add(field['original_field_name'])\n",
    "\n",
    "target_records = target_project.export_records(\n",
    "   fields=test_fields, \n",
    "   export_blank_for_gray_form_status=True\n",
    ")\n",
    "\n",
    "# This is trying to export test fields from the target project, which does not\n",
    "# have the test fields. So I get an error\n",
    "\n",
    "target_records"
   ]
  },
  {
   "cell_type": "markdown",
   "metadata": {},
   "source": [
    "Define fields that need to be taken off. \n",
    "\n",
    "This is necessary in cases where options were defined but got deleted from a variable. They would still retain in `export_records` if there's data in them. This is a manual process. \n",
    "\n",
    "Instructions:\n",
    "\n",
    "1. Set `delete_fields = []`. Run cell.\n",
    "2. If an error is thrown, copy the fields mention in the error into \n",
    "`delete_fields`.\n",
    "3. Run cell again."
   ]
  },
  {
   "cell_type": "code",
   "execution_count": null,
   "metadata": {},
   "outputs": [],
   "source": [
    "delete_fields = [\n",
    "   'sequences_acquired___ni',\n",
    "   'sequences_collected___ni'\n",
    "]\n",
    "\n",
    "for record in target_records:\n",
    "   for field in delete_fields:\n",
    "      record.pop(field, None)"
   ]
  },
  {
   "cell_type": "code",
   "execution_count": null,
   "metadata": {},
   "outputs": [],
   "source": [
    "# \"This is necessary in cases where options were defined but got deleted from a variable\"\n",
    "# Do you mean to say sequences_acquired___ni was a checkbox option at one point, but was deleted later?\n",
    "# Because if it were actually renamed, say \"sequences_acquired___1\" -> \"sequences_acquired___ni\",\n",
    "# then the values would persist. This is because they have the same value under the option label: (1, sequences_acquired___1) == (1, sequences_acquired___ni)\n",
    "# But if the new option were defined with a new option value: (1, sequences_acquired___1) == (2, sequences_acquired___ni),\n",
    "# and sequences_acquired___1 were removed from the options, \n",
    "# then sequences_acquired___1's values would be deleted and not appear in export_records\n",
    "\n",
    "# Let me know if this is what you were referring to"
   ]
  },
  {
   "cell_type": "code",
   "execution_count": 41,
   "metadata": {},
   "outputs": [],
   "source": [
    "target_records = target_project.export_records(export_blank_for_gray_form_status=True)"
   ]
  },
  {
   "cell_type": "code",
   "execution_count": 42,
   "metadata": {},
   "outputs": [],
   "source": [
    "delete_fields = []\n",
    "for record in target_records:\n",
    "   for field in delete_fields:\n",
    "      record.pop(field, None)"
   ]
  },
  {
   "cell_type": "markdown",
   "metadata": {},
   "source": [
    "Import data into test_project"
   ]
  },
  {
   "cell_type": "code",
   "execution_count": 43,
   "metadata": {},
   "outputs": [
    {
     "ename": "RequestException",
     "evalue": "{'error': 'The following fields were not found in the project as real data fields: notes, notes_upload, site_name, imag_comp_base, base_modalities___1, base_modalities___2, base_modalities___3, base_modalities___4, base_modalities___5, base_modalities___6, base_modalities___8, ct_date_base, ct_time_base, cta_date_base, cta_time_base, ctp_date_base, ctp_time_base, ctp_90mins, ctp_admin_window, ctp_90min_no, mri_date_base, mri_time_base, mra_date_base, mra_time_base, mrp_date_base, mrp_time_base, base_oth, follow_up_imag, follow_up_modalities___1, follow_up_modalities___2, follow_up_modalities___3, follow_up_modalities___4, follow_up_modalities___5, follow_up_modalities___6, follow_up_modalities___8, ct_date_fu, ct_time_fu, cta_date_fu, cta_time_fu, ctp_date_fu, ctp_time_fu, mri_date_fu, mri_time_fu, mra_date_fu, mra_time_fu, mrp_date_fu, mrp_time_fu, fu_other, oth_imag, oth_mod___1, oth_mod___2, oth_mod___3, oth_mod___4, oth_mod___5, oth_mod___6, oth_mod___7, ct_date_oth, ct_time_oth, cta_date_oth, cta_time_oth, ctp_date_oth, ctp_time_oth, mri_date_oth, mri_time_oth, mra_date_oth, mra_time_oth, mrp_date_oth, mrp_time_oth, other_oth, min_ncct, ncct_no, ncct_date, ncct_time, upload_status, query_reason___1, query_reason___2, query_reason___3, query_reason___4, oth_quer_gen, query1date, query1comments, query2date, query2comments, query3date, query3comments, image_qaqc, quer_pend, image_cr_lw, imag_verified_lw, imag_cr_mw, imag_verified_mw, form_1_complete'}",
     "output_type": "error",
     "traceback": [
      "\u001b[0;31m---------------------------------------------------------------------------\u001b[0m",
      "\u001b[0;31mRequestException\u001b[0m                          Traceback (most recent call last)",
      "Cell \u001b[0;32mIn[43], line 1\u001b[0m\n\u001b[0;32m----> 1\u001b[0m \u001b[43mtest_project\u001b[49m\u001b[38;5;241;43m.\u001b[39;49m\u001b[43mimport_records\u001b[49m\u001b[43m(\u001b[49m\u001b[43mtarget_records\u001b[49m\u001b[43m)\u001b[49m\n",
      "File \u001b[0;32m~/environments/rad/lib/python3.12/site-packages/redcap/methods/records.py:325\u001b[0m, in \u001b[0;36mRecords.import_records\u001b[0;34m(self, to_import, return_format_type, return_content, overwrite, import_format, date_format, force_auto_number)\u001b[0m\n\u001b[1;32m    318\u001b[0m payload[\u001b[38;5;124m\"\u001b[39m\u001b[38;5;124mforceAutoNumber\u001b[39m\u001b[38;5;124m\"\u001b[39m] \u001b[38;5;241m=\u001b[39m force_auto_number\n\u001b[1;32m    320\u001b[0m return_type \u001b[38;5;241m=\u001b[39m \u001b[38;5;28mself\u001b[39m\u001b[38;5;241m.\u001b[39m_lookup_return_type(\n\u001b[1;32m    321\u001b[0m     format_type\u001b[38;5;241m=\u001b[39mreturn_format_type,\n\u001b[1;32m    322\u001b[0m     request_type\u001b[38;5;241m=\u001b[39m\u001b[38;5;124m\"\u001b[39m\u001b[38;5;124mimport\u001b[39m\u001b[38;5;124m\"\u001b[39m,\n\u001b[1;32m    323\u001b[0m     import_records_format\u001b[38;5;241m=\u001b[39mreturn_content,\n\u001b[1;32m    324\u001b[0m )\n\u001b[0;32m--> 325\u001b[0m response \u001b[38;5;241m=\u001b[39m cast(Union[Json, \u001b[38;5;28mstr\u001b[39m], \u001b[38;5;28;43mself\u001b[39;49m\u001b[38;5;241;43m.\u001b[39;49m\u001b[43m_call_api\u001b[49m\u001b[43m(\u001b[49m\u001b[43mpayload\u001b[49m\u001b[43m,\u001b[49m\u001b[43m \u001b[49m\u001b[43mreturn_type\u001b[49m\u001b[43m)\u001b[49m)\n\u001b[1;32m    327\u001b[0m \u001b[38;5;28;01mreturn\u001b[39;00m response\n",
      "File \u001b[0;32m~/environments/rad/lib/python3.12/site-packages/redcap/methods/base.py:437\u001b[0m, in \u001b[0;36mBase._call_api\u001b[0;34m(self, payload, return_type, file)\u001b[0m\n\u001b[1;32m    434\u001b[0m return_headers \u001b[38;5;241m=\u001b[39m return_type \u001b[38;5;241m==\u001b[39m \u001b[38;5;124m\"\u001b[39m\u001b[38;5;124mfile_map\u001b[39m\u001b[38;5;124m\"\u001b[39m\n\u001b[1;32m    436\u001b[0m rcr \u001b[38;5;241m=\u001b[39m _RCRequest(url\u001b[38;5;241m=\u001b[39m\u001b[38;5;28mself\u001b[39m\u001b[38;5;241m.\u001b[39murl, payload\u001b[38;5;241m=\u001b[39mpayload, config\u001b[38;5;241m=\u001b[39mconfig)\n\u001b[0;32m--> 437\u001b[0m \u001b[38;5;28;01mreturn\u001b[39;00m \u001b[43mrcr\u001b[49m\u001b[38;5;241;43m.\u001b[39;49m\u001b[43mexecute\u001b[49m\u001b[43m(\u001b[49m\n\u001b[1;32m    438\u001b[0m \u001b[43m    \u001b[49m\u001b[43mverify_ssl\u001b[49m\u001b[38;5;241;43m=\u001b[39;49m\u001b[38;5;28;43mself\u001b[39;49m\u001b[38;5;241;43m.\u001b[39;49m\u001b[43mverify_ssl\u001b[49m\u001b[43m,\u001b[49m\n\u001b[1;32m    439\u001b[0m \u001b[43m    \u001b[49m\u001b[43mreturn_headers\u001b[49m\u001b[38;5;241;43m=\u001b[39;49m\u001b[43mreturn_headers\u001b[49m\u001b[43m,\u001b[49m\n\u001b[1;32m    440\u001b[0m \u001b[43m    \u001b[49m\u001b[43mfile\u001b[49m\u001b[38;5;241;43m=\u001b[39;49m\u001b[43mfile\u001b[49m\u001b[43m,\u001b[49m\n\u001b[1;32m    441\u001b[0m \u001b[43m    \u001b[49m\u001b[38;5;241;43m*\u001b[39;49m\u001b[38;5;241;43m*\u001b[39;49m\u001b[38;5;28;43mself\u001b[39;49m\u001b[38;5;241;43m.\u001b[39;49m\u001b[43m_request_kwargs\u001b[49m\u001b[43m,\u001b[49m\n\u001b[1;32m    442\u001b[0m \u001b[43m\u001b[49m\u001b[43m)\u001b[49m\n",
      "File \u001b[0;32m~/environments/rad/lib/python3.12/site-packages/redcap/request.py:209\u001b[0m, in \u001b[0;36m_RCRequest.execute\u001b[0;34m(self, verify_ssl, return_headers, file, **kwargs)\u001b[0m\n\u001b[1;32m    206\u001b[0m     bad_request \u001b[38;5;241m=\u001b[39m \u001b[38;5;124m\"\u001b[39m\u001b[38;5;124m<error>\u001b[39m\u001b[38;5;124m\"\u001b[39m \u001b[38;5;129;01min\u001b[39;00m \u001b[38;5;28mstr\u001b[39m(content)\u001b[38;5;241m.\u001b[39mlower()\n\u001b[1;32m    208\u001b[0m \u001b[38;5;28;01mif\u001b[39;00m bad_request:\n\u001b[0;32m--> 209\u001b[0m     \u001b[38;5;28;01mraise\u001b[39;00m RedcapError(content)\n\u001b[1;32m    211\u001b[0m \u001b[38;5;28;01mif\u001b[39;00m return_headers:\n\u001b[1;32m    212\u001b[0m     \u001b[38;5;28;01mreturn\u001b[39;00m content, response\u001b[38;5;241m.\u001b[39mheaders\n",
      "\u001b[0;31mRequestException\u001b[0m: {'error': 'The following fields were not found in the project as real data fields: notes, notes_upload, site_name, imag_comp_base, base_modalities___1, base_modalities___2, base_modalities___3, base_modalities___4, base_modalities___5, base_modalities___6, base_modalities___8, ct_date_base, ct_time_base, cta_date_base, cta_time_base, ctp_date_base, ctp_time_base, ctp_90mins, ctp_admin_window, ctp_90min_no, mri_date_base, mri_time_base, mra_date_base, mra_time_base, mrp_date_base, mrp_time_base, base_oth, follow_up_imag, follow_up_modalities___1, follow_up_modalities___2, follow_up_modalities___3, follow_up_modalities___4, follow_up_modalities___5, follow_up_modalities___6, follow_up_modalities___8, ct_date_fu, ct_time_fu, cta_date_fu, cta_time_fu, ctp_date_fu, ctp_time_fu, mri_date_fu, mri_time_fu, mra_date_fu, mra_time_fu, mrp_date_fu, mrp_time_fu, fu_other, oth_imag, oth_mod___1, oth_mod___2, oth_mod___3, oth_mod___4, oth_mod___5, oth_mod___6, oth_mod___7, ct_date_oth, ct_time_oth, cta_date_oth, cta_time_oth, ctp_date_oth, ctp_time_oth, mri_date_oth, mri_time_oth, mra_date_oth, mra_time_oth, mrp_date_oth, mrp_time_oth, other_oth, min_ncct, ncct_no, ncct_date, ncct_time, upload_status, query_reason___1, query_reason___2, query_reason___3, query_reason___4, oth_quer_gen, query1date, query1comments, query2date, query2comments, query3date, query3comments, image_qaqc, quer_pend, image_cr_lw, imag_verified_lw, imag_cr_mw, imag_verified_mw, form_1_complete'}"
     ]
    }
   ],
   "source": [
    "test_project.import_records(target_records)"
   ]
  },
  {
   "cell_type": "code",
   "execution_count": null,
   "metadata": {},
   "outputs": [],
   "source": [
    "# See if records imported\n",
    "test_records_df = test_project.export_records(format_type='df', export_blank_for_gray_form_status=True)\n",
    "target_records_df = target_project.export_records(format_type='df', export_blank_for_gray_form_status=True, fields=test_fields)\n",
    "\n",
    "merged_df = pd.merge(test_records_df, target_records_df, how='outer', indicator=True)\n",
    "if (len(merged_df) == len(test_records_df)) & (len(merged_df) == len(target_records_df)):\n",
    "    print(f'''{test_project_name} imported data from {target_project_name} successfully''')\n",
    "else:\n",
    "    merged_df.to_excel(f'{test_project_name}_{target_project_name}_merged_{datetime.now()}.xlsx', header=True)\n",
    "    raise ValueError(f'''Data discrepancies between {test_project_name} and {target_project_name}''')"
   ]
  }
 ],
 "metadata": {
  "kernelspec": {
   "display_name": "redcap-ambra",
   "language": "python",
   "name": "python3"
  },
  "language_info": {
   "codemirror_mode": {
    "name": "ipython",
    "version": 3
   },
   "file_extension": ".py",
   "mimetype": "text/x-python",
   "name": "python",
   "nbconvert_exporter": "python",
   "pygments_lexer": "ipython3",
   "version": "3.12.0"
  }
 },
 "nbformat": 4,
 "nbformat_minor": 2
}
