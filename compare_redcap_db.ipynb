{
 "cells": [
  {
   "cell_type": "markdown",
   "metadata": {},
   "source": [
    "# Problem Statement\n",
    "\n",
    "Functionalities to backup REDCap data in the database is constantly being maintained and updated. There needs to be a way to quickly verify that the data in the backup database is the same as the data on REDCap.\n",
    "\n",
    "This comparison goes both ways--data found in REDCap should be in the database, and data found in the database should be on REDCap.\n",
    "\n",
    "# Solution\n",
    "\n",
    "This notebook pulls data from REDCap and the database and do cross checking."
   ]
  }
 ],
 "metadata": {
  "kernelspec": {
   "display_name": "redcap-ambra",
   "language": "python",
   "name": "python3"
  },
  "language_info": {
   "name": "python",
   "version": "3.12.2"
  }
 },
 "nbformat": 4,
 "nbformat_minor": 2
}
